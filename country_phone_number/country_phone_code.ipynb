{
 "cells": [
  {
   "cell_type": "markdown",
   "id": "77212c58-7795-4d59-8056-99829c4f37a0",
   "metadata": {},
   "source": [
    "# Código do país\n",
    "\n",
    "Ideia desse código é receber um .csv com informações de contato de pessoas e adicionar o código do país ao número de telefone"
   ]
  },
  {
   "cell_type": "code",
   "execution_count": 1,
   "id": "7a686273-afbf-4ef1-afee-006c419f669e",
   "metadata": {
    "scrolled": true
   },
   "outputs": [
    {
     "name": "stdout",
     "output_type": "stream",
     "text": [
      "Successfully installed et-xmlfile-1.1.0 openpyxl-3.1.2 pandas-2.2.1 phonenumbers-8.13.31 pycountry-23.12.11 tzdata-2024.1\n"
     ]
    }
   ],
   "source": [
    "!pip install -r requirements.txt"
   ]
  },
  {
   "cell_type": "code",
   "execution_count": null,
   "id": "98708608-a9c2-443c-8927-6729c79df5d1",
   "metadata": {},
   "outputs": [],
   "source": [
    "import pandas as pd\n",
    "import pycountry\n",
    "\n",
    "\n",
    "def get_country_phone_code(country_name):\n",
    "    try:\n",
    "        country = pycountry.countries.lookup(country_name)\n",
    "        phone = phonenumbers.country_code_for_region(country.alpha_2)\n",
    "        return f'+{phone}'\n",
    "    except LookupError:\n",
    "        return None"
   ]
  },
  {
   "cell_type": "code",
   "execution_count": null,
   "id": "8c8767e7-0a2d-4a0a-994a-6c04206ae8f6",
   "metadata": {},
   "outputs": [],
   "source": [
    "df_teste = pd.read_excel('country_phone_code.xlsx', skiprows=1,header=None)\n",
    "df_teste.columns = ['information', 'values']\n",
    "\n",
    "df_teste['information'] = df_teste['information'].str.replace('\\n', '')\n",
    "df_teste['information'] = df_teste['information'].str.replace(':', '')\n",
    "df_teste['information'] = df_teste['information'].str.strip()\n",
    "\n",
    "df_teste['group'] = df_teste.groupby(df_teste['information']).cumcount()\n",
    "\n",
    "pivot_table = df_teste.pivot_table(index='group', columns='information', values='values', aggfunc='first')\n",
    "pivot_table.reset_index(inplace=True)\n",
    "\n",
    "pivot_table = pivot_table[['ADRESS', 'CITY', 'COUNTRY', 'NAME', 'POSTAL CODE', 'PROVINCE', 'TELEPHONE']]\n",
    "pivot_table['ADRESS'] = pivot_table['ADRESS'].str.replace('\\n', '')\n",
    "pivot_table['PHONE_CODE'] = pivot_table['COUNTRY'].apply(get_country_phone_code)\n"
   ]
  },
  {
   "cell_type": "code",
   "execution_count": null,
   "id": "9b5d21b3-6c93-4b6b-9ca0-36760552820a",
   "metadata": {
    "scrolled": true
   },
   "outputs": [],
   "source": [
    "pivot_table"
   ]
  }
 ],
 "metadata": {
  "kernelspec": {
   "display_name": "Python 3 (ipykernel)",
   "language": "python",
   "name": "python3"
  },
  "language_info": {
   "codemirror_mode": {
    "name": "ipython",
    "version": 3
   },
   "file_extension": ".py",
   "mimetype": "text/x-python",
   "name": "python",
   "nbconvert_exporter": "python",
   "pygments_lexer": "ipython3",
   "version": "3.10.12"
  }
 },
 "nbformat": 4,
 "nbformat_minor": 5
}
