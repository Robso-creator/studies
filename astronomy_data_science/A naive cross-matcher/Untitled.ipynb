{
 "cells": [
  {
   "attachments": {
    "8c9868de-bb33-4c31-a790-565904769f84.png": {
     "image/png": "[encoded data removed]"
    }
   },
   "cell_type": "markdown",
   "id": "df6594ff-fdc5-46f7-aefd-897b9f661a51",
   "metadata": {
    "editable": false,
    "slideshow": {
     "slide_type": ""
    },
    "tags": []
   },
   "source": [
    " To crossmatch two catalogues we need to compare the angular distance between objects on the celestial sphere.\n",
    "\n",
    "People loosely call this a \"distance\", but technically its an angular distance: the projected angle between objects as seen from Earth.\n",
    "\n",
    "If we have an object on the celestial sphere with right ascension and declination (α1,δ1), then the angular distance to another object with coordinates (α2,δ2) is:\n",
    "\n",
    "![image.png](attachment:8c9868de-bb33-4c31-a790-565904769f84.png)\n",
    "\n",
    "Angular distances have the same units as angles (degrees). There are [other equations](https://en.wikipedia.org/wiki/Great-circle_distance#Formulas) for calculating the angular distance but this one, called the [haversine formula](https://en.wikipedia.org/wiki/Haversine_formula), is good at avoiding floating point errors when the two points are close together. "
   ]
  },
  {
   "attachments": {
    "c6315a33-4f4a-4eb8-94b6-00c72d6a5bc5.png": {
     "image/png": "[encoded data removed]"
    }
   },
   "cell_type": "markdown",
   "id": "33e81b51-ad29-4d84-9ec7-f6814e8eb4c0",
   "metadata": {
    "editable": false,
    "slideshow": {
     "slide_type": ""
    },
    "tags": []
   },
   "source": [
    "\n",
    " We'll go through an example of how to implement the formula you saw on the previous slide using NumPy's trigonometric functions. Please keep in mind that NumPy trigonometric functions only take radians as input so you need to convert your coordinates when needed.\n",
    "\n",
    "First, let's break down the formula into smaller parts: \n",
    "\n",
    "![image.png](attachment:c6315a33-4f4a-4eb8-94b6-00c72d6a5bc5.png)\n",
    "\n",
    "\n",
    "We can calculate b with NumPy's sin, cos and abs functions:\n",
    "\n",
    "`b = np.cos(d1)*np.cos(d2)*np.sin(np.abs(r1 - r2)/2)**2`\n",
    "\n",
    "Here, r1 and d1 are the coordinates of the first point (α1,δ1) and r2 and d2 similarly correspond to α2 and δ2.\n",
    "\n",
    "a can be calculated in a similar way using just sin and abs. Once we have both a and b we can use numpy.arcsin to calculate d:\n",
    "\n",
    "`d = 2*np.arcsin(np.sqrt(a + b))`\n",
    "\n",
    "\n",
    "> **Note**\n",
    "> \n",
    "> Trig functions in most languages and libraries (including Python and NumPy) take angle arguments in units of radians, but the databases we're working with use angles of degrees.\n",
    "> \n",
    "> Fortunately, NumPy provides convenient conversion functions:\n",
    "> \n",
    "> `a_rad = np.radians(a_deg)`\n",
    "> \n",
    "> `a_deg = np.degrees(a_rad)`\n",
    "> \n",
    "> The variable a_deg is in units of degrees and a_rad is in radians.\n"
   ]
  },
  {
   "cell_type": "markdown",
   "id": "f8551b10-2b04-4b84-a15e-1cf1895fef36",
   "metadata": {
    "editable": false,
    "slideshow": {
     "slide_type": ""
    },
    "tags": []
   },
   "source": [
    "Write a function called angular_dist that calculates the angular distance between any two points on the celestial sphere given their right ascension and declination.\n",
    "\n",
    "Your function should take arguments in decimal degrees and return the distance in decimal degrees too.\n",
    "\n",
    "Here's an example of how your function should work:"
   ]
  },
  {
   "cell_type": "code",
   "execution_count": 4,
   "id": "4561cd1b-4097-43d6-b530-20c4010d0fb3",
   "metadata": {
    "editable": true,
    "slideshow": {
     "slide_type": ""
    },
    "tags": []
   },
   "outputs": [],
   "source": [
    "import numpy as np\n",
    "\n",
    "def angular_dist(radius1, declination1, radius2, declination2):\n",
    "\n",
    "    # convert to radians\n",
    "    radius1 = np.radians(radius1)\n",
    "    declination1 = np.radians(declination1)\n",
    "    radius2 = np.radians(radius2)\n",
    "    declination2 = np.radians(declination2)\n",
    "    \n",
    "    # calc a\n",
    "    a = np.sin(np.abs(declination1 - declination2)/ 2)**2 \n",
    "\n",
    "    # calc b\n",
    "    b = np.cos(declination1)*np.cos(declination2)*np.sin(np.abs(radius1 - radius2)/2)**2\n",
    "\n",
    "    # calc d\n",
    "    d = 2*np.arcsin(np.sqrt(a + b))\n",
    "\n",
    "    # convert to degrees\n",
    "    d = np.degrees(d)\n",
    "\n",
    "    return d"
   ]
  },
  {
   "cell_type": "code",
   "execution_count": 5,
   "id": "b02a8074-08c8-41f3-8851-0b6056a49b08",
   "metadata": {
    "editable": true,
    "slideshow": {
     "slide_type": ""
    },
    "tags": []
   },
   "outputs": [
    {
     "name": "stdout",
     "output_type": "stream",
     "text": [
      "8.100392318146504\n",
      "29.208498180546595\n"
     ]
    }
   ],
   "source": [
    "if __name__ == '__main__':\n",
    "  # Run your function with the first example in the question.\n",
    "  print(angular_dist(21.07, 0.1, 21.15, 8.2))\n",
    "\n",
    "  # Run your function with the second example in the question\n",
    "  print(angular_dist(10.3, -3, 24.3, -29))\n"
   ]
  }
 ],
 "metadata": {
  "kernelspec": {
   "display_name": "Python 3 (ipykernel)",
   "language": "python",
   "name": "python3"
  },
  "language_info": {
   "codemirror_mode": {
    "name": "ipython",
    "version": 3
   },
   "file_extension": ".py",
   "mimetype": "text/x-python",
   "name": "python",
   "nbconvert_exporter": "python",
   "pygments_lexer": "ipython3",
   "version": "3.10.12"
  }
 },
 "nbformat": 4,
 "nbformat_minor": 5
}
