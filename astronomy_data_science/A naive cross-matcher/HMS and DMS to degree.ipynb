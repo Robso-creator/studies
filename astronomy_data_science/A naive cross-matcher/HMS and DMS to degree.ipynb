{
 "cells": [
  {
   "cell_type": "markdown",
   "id": "08989a81-2480-408b-ad28-58dbf88ed425",
   "metadata": {},
   "source": [
    "Right ascension is often given in hours-minutes-seconds (HMS) notation, because it was convenient to calculate when a star would appear over the horizon. A full circle in HMS notation is 24 hours, which means 1 hour in HMS notation is equal to 15 degrees.\n",
    "\n",
    "Each hour is split into 60 minutes and each minute into 60 seconds.\n",
    "\n",
    "You can convert 23 hours, 12 minutes and 6 seconds (written as 23:12:06 or 23h12m06s) to degrees like this: "
   ]
  },
  {
   "cell_type": "code",
   "execution_count": 1,
   "id": "90583d09-a7f3-48db-ae48-590fb78ae839",
   "metadata": {},
   "outputs": [
    {
     "name": "stdout",
     "output_type": "stream",
     "text": [
      "348.025\n"
     ]
    }
   ],
   "source": [
    "print(15*(23 + 12/60 + 6/(60*60)))"
   ]
  },
  {
   "cell_type": "markdown",
   "id": "3b6a064a-2279-44dd-9091-23c3809c6da2",
   "metadata": {},
   "source": [
    " Declination, on the other hand, is traditionally recorded in degrees-minutes-seconds (DMS) notation. A full circle is 360 degrees, each degree has 60 arcminutes and each arcminute has 60 arcseconds.\n",
    "\n",
    "For example: 73 degrees, 21 arcminutes and 14.4 arcseconds (written 73:21:14.4 or 73° 21' 14.4\" or 73d21m14.4s) can be converted to decimal degrees like this: "
   ]
  },
  {
   "cell_type": "code",
   "execution_count": 2,
   "id": "56b8aebf-2465-4e91-970f-ffdd656213a6",
   "metadata": {},
   "outputs": [
    {
     "name": "stdout",
     "output_type": "stream",
     "text": [
      "73.354\n"
     ]
    }
   ],
   "source": [
    "print(73 + 21/60 + 14.4/(60*60))"
   ]
  },
  {
   "cell_type": "markdown",
   "id": "06b1b59a-ed0a-4992-a456-162ee34c9086",
   "metadata": {},
   "source": [
    "With negative angles like -5° 31' 12\" the negation applies to the whole angle, including arcminutes and arcseconds: "
   ]
  },
  {
   "cell_type": "code",
   "execution_count": 3,
   "id": "03686ec8-b29c-49a4-9d48-5b6d25c49ac1",
   "metadata": {},
   "outputs": [
    {
     "name": "stdout",
     "output_type": "stream",
     "text": [
      "-5.52\n"
     ]
    }
   ],
   "source": [
    "print(-1*(5 + 31/60 + 12/(60*60)))"
   ]
  },
  {
   "cell_type": "code",
   "execution_count": 5,
   "id": "016c11f4-f2c2-4a01-b135-6d1b87ca515d",
   "metadata": {},
   "outputs": [],
   "source": [
    "def hms2dec(hour, minute, second):\n",
    "  dec = 15 * (hour + minute/60 + second/(60*60))\n",
    "              \n",
    "  return dec "
   ]
  },
  {
   "cell_type": "code",
   "execution_count": 6,
   "id": "ccff5da0-2964-4270-b190-e708bc40e96c",
   "metadata": {},
   "outputs": [
    {
     "data": {
      "text/plain": [
       "348.025"
      ]
     },
     "execution_count": 6,
     "metadata": {},
     "output_type": "execute_result"
    }
   ],
   "source": [
    "hms2dec(23, 12, 6)"
   ]
  },
  {
   "cell_type": "code",
   "execution_count": 12,
   "id": "851334fa-77b5-452b-8e69-1aebfdc96e59",
   "metadata": {},
   "outputs": [],
   "source": [
    "def dms2dec(degree, arcminute, arcsecond):\n",
    "    negative = False\n",
    "    if degree < 0:\n",
    "        degree = degree * -1\n",
    "        negative = True\n",
    "\n",
    "    dec = degree + arcminute/60 + arcsecond /(60 * 60)\n",
    "    if negative:\n",
    "        dec = dec * -1\n",
    "\n",
    "    return dec"
   ]
  },
  {
   "cell_type": "code",
   "execution_count": 15,
   "id": "63152654-9386-40aa-8f2d-4b7857e55165",
   "metadata": {},
   "outputs": [
    {
     "data": {
      "text/plain": [
       "22.955"
      ]
     },
     "execution_count": 15,
     "metadata": {},
     "output_type": "execute_result"
    }
   ],
   "source": [
    "dms2dec(22, 57, 18)"
   ]
  },
  {
   "cell_type": "code",
   "execution_count": 17,
   "id": "2ff5879a-b2d0-4c87-8151-acdef0c8fc42",
   "metadata": {},
   "outputs": [
    {
     "name": "stdout",
     "output_type": "stream",
     "text": [
      "348.025\n",
      "22.955\n",
      "-66.08475\n"
     ]
    }
   ],
   "source": [
    "if __name__ == '__main__':\n",
    "  # The first example from the question\n",
    "  print(hms2dec(23, 12, 6))\n",
    "\n",
    "  # The second example from the question\n",
    "  print(dms2dec(22, 57, 18))\n",
    "\n",
    "  # The third example from the question\n",
    "  print(dms2dec(-66, 5, 5.1))"
   ]
  }
 ],
 "metadata": {
  "kernelspec": {
   "display_name": "Python 3 (ipykernel)",
   "language": "python",
   "name": "python3"
  },
  "language_info": {
   "codemirror_mode": {
    "name": "ipython",
    "version": 3
   },
   "file_extension": ".py",
   "mimetype": "text/x-python",
   "name": "python",
   "nbconvert_exporter": "python",
   "pygments_lexer": "ipython3",
   "version": "3.10.12"
  }
 },
 "nbformat": 4,
 "nbformat_minor": 5
}
